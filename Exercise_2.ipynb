{
 "cells": [
  {
   "cell_type": "markdown",
   "id": "f35d2ef6-03fb-4033-b865-adf4b9e98f3b",
   "metadata": {},
   "source": [
    "# Second exercise"
   ]
  },
  {
   "cell_type": "markdown",
   "id": "902359c0-0cb2-4be1-8bdd-87379a5f9468",
   "metadata": {},
   "source": [
    "#### Importing necessery packages"
   ]
  },
  {
   "cell_type": "code",
   "execution_count": 1,
   "id": "82a66642-a0af-4c0d-ba74-d27445fa4aab",
   "metadata": {},
   "outputs": [],
   "source": [
    "import pysam"
   ]
  },
  {
   "cell_type": "markdown",
   "id": "8ca4db37-dee5-4261-ae9c-1117d34ac79f",
   "metadata": {},
   "source": [
    "#### Creating a function for decoding read flags"
   ]
  },
  {
   "cell_type": "code",
   "execution_count": 2,
   "id": "f1b36b01-229e-49d2-b4fd-c44660329583",
   "metadata": {},
   "outputs": [],
   "source": [
    "def decode_read_flags(hex_value):\n",
    "    flag_descriptions = {\n",
    "        0x1: \"read paired\",\n",
    "        0x2: \"read mapped in proper pair\",\n",
    "        0x4: \"read unmapped\",\n",
    "        0x8: \"mate unmapped\",\n",
    "        0x10: \"read reverse strand\",\n",
    "        0x20: \"mate reverse strand\",\n",
    "        0x40: \"first in pair\",\n",
    "        0x80: \"second in pair\",\n",
    "        0x100: \"not primary alignment\",\n",
    "        0x200: \"read fails platform/vendor quality checks\",\n",
    "        0x400: \"read is PCR or optical duplicate\",\n",
    "        0x800: \"supplementary alignment\"\n",
    "    }\n",
    "\n",
    "    decoded_flags = []\n",
    "    for flag_value, description in flag_descriptions.items():\n",
    "        if hex_value & flag_value:\n",
    "            decoded_flags.append(description)\n",
    "\n",
    "    return decoded_flags"
   ]
  },
  {
   "cell_type": "markdown",
   "id": "a8b821db-e7a0-4a34-a04a-7d56aff8d508",
   "metadata": {},
   "source": [
    "#### Creating the alignment file from the .bam file"
   ]
  },
  {
   "cell_type": "code",
   "execution_count": 4,
   "id": "372244d0-b5ee-43cd-b0f3-d7326eaf7fa1",
   "metadata": {},
   "outputs": [],
   "source": [
    "alignment_file = pysam.AlignmentFile(\"./merged-tumor.bam\", \"rb\")"
   ]
  },
  {
   "cell_type": "markdown",
   "id": "6a53b194-1414-4ed5-9e5c-2c31ccf585f3",
   "metadata": {},
   "source": [
    "#### Inspecting the first read, its fields and the flag"
   ]
  },
  {
   "cell_type": "code",
   "execution_count": 5,
   "id": "e44e01a7-4801-47bf-8cfe-8d9fc8484cbc",
   "metadata": {},
   "outputs": [
    {
     "name": "stdout",
     "output_type": "stream",
     "text": [
      "##### ANALYSIS OF THE FIRST READ #####\n",
      "\n",
      "name : C0HVYACXX120402:7:1207:5722:57044\n",
      "flag : 1187\n",
      "ref_name : 21\n",
      "ref_pos : 9483249\n",
      "map_quality : 27\n",
      "cigar : 76M\n",
      "next_ref_name : =\n",
      "next_ref_pos : 9483382\n",
      "length : 209\n",
      "seq : TTTTCAAACAGTATCTATGCCTGCCAAATGTGAACATATAAAAAAAAACCAGAATGTGCCATTCTGATTTAAACTG\n",
      "qual : ==<>@?@@>@D?>@C?>8JA5?>CC>?@???BB;H-:4A?D=DB8BDE?GBJCD@B8??E<A>CDJB@B>AA@@@C\n",
      "tags : ['XA:Z:GL000217.1,-110754,76M,1;', 'BD:Z:NNNNNNNNNNNNNNNNNNNNNNNNNNNNNNNNNNNNNNNNNNNNNNNNNNNNNNNNNNNNNNNNNNNNNNNNNNNN', 'MD:Z:76', 'RG:Z:1', 'BI:Z:NNNNNNNNNNNNNNNNNNNNNNNNNNNNNNNNNNNNNNNNNNNNNNNNNNNNNNNNNNNNNNNNNNNNNNNNNNNN', 'NM:i:0', 'MQ:i:27', 'AS:i:76', 'XS:i:71']\n",
      "\n",
      "The first read flag is: 1187, which stands for: ['read paired', 'read mapped in proper pair', 'mate reverse strand', 'second in pair', 'read is PCR or optical duplicate']\n"
     ]
    }
   ],
   "source": [
    "first_read = next(alignment_file)\n",
    "\n",
    "print(\"##### ANALYSIS OF THE FIRST READ #####\\n\")\n",
    "for key, value in first_read.to_dict().items():\n",
    "\tprint(str(key) + \" : \" + str(value))\n",
    "\t\n",
    "print(\"\\nThe first read flag is: \" + str(first_read.flag) + \", which stands for: \" + str(decode_read_flags(first_read.flag)))"
   ]
  },
  {
   "cell_type": "markdown",
   "id": "880d54a0-fcf3-48cc-bbe0-3913df530463",
   "metadata": {},
   "source": [
    "#### Calculating the average mapping quality of all the reads"
   ]
  },
  {
   "cell_type": "code",
   "execution_count": 6,
   "id": "89416c06-2ed1-475c-add6-c73d32b07b2c",
   "metadata": {},
   "outputs": [],
   "source": [
    "total_reads = 0\n",
    "total_unmapped = 0\n",
    "total_zero_quality = 0\n",
    "sum_mapping_quality = 0"
   ]
  },
  {
   "cell_type": "code",
   "execution_count": 7,
   "id": "9f3a9442-792c-48b1-a073-109ee74b398c",
   "metadata": {},
   "outputs": [],
   "source": [
    "for read in alignment_file:\n",
    "    if read.flag & 0x0004:\n",
    "        total_unmapped += 1\n",
    "    total_reads += 1\n",
    "    \n",
    "    if read.mapping_quality == 0:\n",
    "        total_zero_quality += 1\n",
    "    \n",
    "    sum_mapping_quality += read.mapping_quality"
   ]
  },
  {
   "cell_type": "markdown",
   "id": "92f117ef-f271-4436-b6d2-104d7cd2a7ec",
   "metadata": {},
   "source": [
    "#### Separating the averages of all and only non zero mapping quality reads"
   ]
  },
  {
   "cell_type": "code",
   "execution_count": 8,
   "id": "b9947ed5-9a61-4450-bdb0-07912b9d83e3",
   "metadata": {},
   "outputs": [],
   "source": [
    "avg_mapping_quality_all = sum_mapping_quality / total_reads\n",
    "avg_mapping_quality_filtered = sum_mapping_quality / (total_reads - total_zero_quality)"
   ]
  },
  {
   "cell_type": "markdown",
   "id": "5cee6a15-25b9-4a09-8a54-f4cf94a27c67",
   "metadata": {},
   "source": [
    "#### Printing the results"
   ]
  },
  {
   "cell_type": "code",
   "execution_count": 9,
   "id": "008079d1-ac33-458f-b101-a693b37e72b1",
   "metadata": {},
   "outputs": [
    {
     "name": "stdout",
     "output_type": "stream",
     "text": [
      "\n",
      "##### ANALYSIS OF ALL READS #####\n",
      "\n",
      "Total number of reads: 2921628\n",
      "Total number of unmapped reads: 17765\n",
      "Total number of zero mapping quality reads: 126628\n",
      "Average mapping quality of all reads: 55.91380148328261\n",
      "Average mapping quality of non zero mapping quality reads: 58.446986762075134\n"
     ]
    }
   ],
   "source": [
    "print(\"\\n##### ANALYSIS OF ALL READS #####\\n\")\n",
    "print(f\"Total number of reads: {total_reads}\")\n",
    "print(f\"Total number of unmapped reads: {total_unmapped}\")\n",
    "print(f\"Total number of zero mapping quality reads: {total_zero_quality}\")\n",
    "print(f\"Average mapping quality of all reads: {avg_mapping_quality_all}\")\n",
    "print(f\"Average mapping quality of non zero mapping quality reads: {avg_mapping_quality_filtered}\")"
   ]
  },
  {
   "cell_type": "markdown",
   "id": "3ede7f81-b06d-4924-8c7f-fdb549e4d555",
   "metadata": {},
   "source": [
    "#### Closing the alignement file"
   ]
  },
  {
   "cell_type": "code",
   "execution_count": 10,
   "id": "d4c8b7b9-39f4-49ba-a5df-00e92cd11162",
   "metadata": {},
   "outputs": [],
   "source": [
    "alignment_file.close()"
   ]
  }
 ],
 "metadata": {
  "kernelspec": {
   "display_name": "Python 3 (ipykernel)",
   "language": "python",
   "name": "python3"
  },
  "language_info": {
   "codemirror_mode": {
    "name": "ipython",
    "version": 3
   },
   "file_extension": ".py",
   "mimetype": "text/x-python",
   "name": "python",
   "nbconvert_exporter": "python",
   "pygments_lexer": "ipython3",
   "version": "3.10.12"
  }
 },
 "nbformat": 4,
 "nbformat_minor": 5
}
